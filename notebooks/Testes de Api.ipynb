{
 "cells": [
  {
   "cell_type": "code",
   "execution_count": 1,
   "metadata": {},
   "outputs": [],
   "source": [
    "from requests import get, post "
   ]
  },
  {
   "cell_type": "code",
   "execution_count": 2,
   "metadata": {},
   "outputs": [],
   "source": [
    "testes = [[0,1,0,1,18,1,0,0,1,0,1,1,2,1,0,0,0,0,0,0,0,1,0,0,0,1,0,1,0,0,3,1,0,0,1,1,1,1,0,1,1,4,3,3,2,3,3,3],\n",
    "\n",
    "[1,0,0,1,18,1,0,0,1,0,1,3,3,0,0,1,0,0,0,0,0,1,0,1,0,0,0,0,1,0,1,2,1,0,1,0,0,1,1,1,1,4,3,3,1,3,5,8],\n",
    "\n",
    "[1,0,1,0,16,0,1,1,0,1,0,2,1,0,0,1,0,0,0,0,1,0,0,0,0,1,0,0,1,0,1,2,0,0,0,1,1,1,1,1,1,5,3,4,1,1,2,8],\n",
    "\n",
    "[0,1,0,1,20,0,1,0,1,1,0,2,2,0,0,0,1,0,0,0,0,1,0,1,0,0,0,0,0,1,1,2,2,0,1,1,0,1,1,0,0,5,5,4,4,5,4,11]]\n"
   ]
  },
  {
   "cell_type": "code",
   "execution_count": 32,
   "metadata": {},
   "outputs": [],
   "source": [
    "querys = []\n",
    "for linhas in testes:\n",
    "    dados = {\n",
    "    \"school_GP\":linhas[0],\n",
    "    \"school_MS\":linhas[1],\n",
    "    \"sex_F\":linhas[2],\n",
    "    \"sex_M\":linhas[3],\n",
    "    \"age\":linhas[4],\n",
    "    \"address_R\":linhas[5],\n",
    "    \"address_U\":linhas[6],\n",
    "    \"famsize_GT3\":linhas[7],\n",
    "    \"famsize_LE3\":linhas[8],\n",
    "    \"Pstatus_A\":linhas[9],\n",
    "    \"Pstatus_T\":linhas[10],\n",
    "    \"Medu\":linhas[11],\n",
    "    \"Fedu\":linhas[12],\n",
    "    \"Mjob_at_home\":linhas[13],\n",
    "    \"Mjob_health\":linhas[14],\n",
    "    \"Mjob_other\":linhas[15],\n",
    "    \"Mjob_services\":linhas[16],\n",
    "    \"Mjob_teacher\":linhas[17],\n",
    "    \"Fjob_at_home\":linhas[18],\n",
    "    \"Fjob_health\":linhas[19],\n",
    "    \"Fjob_other\":linhas[20],\n",
    "    \"Fjob_services\":linhas[21],\n",
    "    \"Fjob_teacher\":linhas[22],\n",
    "    \"reason_course\":linhas[23],\n",
    "    \"reason_home\":linhas[24],\n",
    "    \"reason_other\":linhas[25],\n",
    "    \"reason_reputation\":linhas[26],\n",
    "    \"guardian_father\":linhas[27],\n",
    "    \"guardian_mother\":linhas[28],\n",
    "    \"guardian_other\":linhas[29],\n",
    "    \"traveltime\":linhas[30],\n",
    "    \"studytime\":linhas[31],\n",
    "    \"failures\":linhas[32],\n",
    "    \"schoolsup\":linhas[33],\n",
    "    \"famsup\":linhas[34],\n",
    "    \"paid\":linhas[35],\n",
    "    \"activities\":linhas[36],\n",
    "    \"nursery\":linhas[37],\n",
    "    \"higher\":linhas[38],\n",
    "    \"internet\":linhas[39],\n",
    "    \"romantic\":linhas[40],\n",
    "    \"famrel\":linhas[41],\n",
    "    \"freetime\":linhas[42],\n",
    "    \"goout\":linhas[43],\n",
    "    \"Dalc\":linhas[44],\n",
    "    \"Walc\":linhas[45],\n",
    "    \"health\":linhas[46],\n",
    "    \"absences\":linhas[47]}\n",
    "    querys.append(dados)\n",
    "        "
   ]
  },
  {
   "cell_type": "code",
   "execution_count": 33,
   "metadata": {},
   "outputs": [],
   "source": [
    "url = \"http://127.0.0.1:5000/angah/api/v1/\""
   ]
  },
  {
   "cell_type": "code",
   "execution_count": 54,
   "metadata": {},
   "outputs": [
    {
     "data": {
      "text/plain": [
       "{'school_GP': 1,\n",
       " 'school_MS': 0,\n",
       " 'sex_F': 1,\n",
       " 'sex_M': 0,\n",
       " 'age': 16,\n",
       " 'address_R': 0,\n",
       " 'address_U': 1,\n",
       " 'famsize_GT3': 1,\n",
       " 'famsize_LE3': 0,\n",
       " 'Pstatus_A': 1,\n",
       " 'Pstatus_T': 0,\n",
       " 'Medu': 2,\n",
       " 'Fedu': 1,\n",
       " 'Mjob_at_home': 0,\n",
       " 'Mjob_health': 0,\n",
       " 'Mjob_other': 1,\n",
       " 'Mjob_services': 0,\n",
       " 'Mjob_teacher': 0,\n",
       " 'Fjob_at_home': 0,\n",
       " 'Fjob_health': 0,\n",
       " 'Fjob_other': 1,\n",
       " 'Fjob_services': 0,\n",
       " 'Fjob_teacher': 0,\n",
       " 'reason_course': 0,\n",
       " 'reason_home': 0,\n",
       " 'reason_other': 1,\n",
       " 'reason_reputation': 0,\n",
       " 'guardian_father': 0,\n",
       " 'guardian_mother': 1,\n",
       " 'guardian_other': 0,\n",
       " 'traveltime': 1,\n",
       " 'studytime': 2,\n",
       " 'failures': 0,\n",
       " 'schoolsup': 0,\n",
       " 'famsup': 0,\n",
       " 'paid': 1,\n",
       " 'activities': 1,\n",
       " 'nursery': 1,\n",
       " 'higher': 1,\n",
       " 'internet': 1,\n",
       " 'romantic': 1,\n",
       " 'famrel': 5,\n",
       " 'freetime': 3,\n",
       " 'goout': 4,\n",
       " 'Dalc': 1,\n",
       " 'Walc': 1,\n",
       " 'health': 2,\n",
       " 'absences': 8}"
      ]
     },
     "execution_count": 54,
     "metadata": {},
     "output_type": "execute_result"
    }
   ],
   "source": [
    "querys[2]"
   ]
  },
  {
   "cell_type": "code",
   "execution_count": 53,
   "metadata": {},
   "outputs": [
    {
     "name": "stdout",
     "output_type": "stream",
     "text": [
      "{'mensage': 'aluno precisa de intervensão'}\n"
     ]
    }
   ],
   "source": [
    "print(post(url,querys[3]).json())"
   ]
  },
  {
   "cell_type": "code",
   "execution_count": 56,
   "metadata": {},
   "outputs": [
    {
     "name": "stdout",
     "output_type": "stream",
     "text": [
      "api.py\timages\t\t\tREADME.md\t\t  tests\r\n",
      "bases\tnotebooks\t\trequirementes.txt\r\n",
      "env\tproject_description.md\tstudent_intervention.sav\r\n"
     ]
    }
   ],
   "source": [
    "!ls ../"
   ]
  },
  {
   "cell_type": "code",
   "execution_count": 39,
   "metadata": {},
   "outputs": [],
   "source": [
    "import pandas as pd\n",
    "\n",
    "df = pd.DataFrame([querys[0]]) \n"
   ]
  },
  {
   "cell_type": "code",
   "execution_count": 63,
   "metadata": {},
   "outputs": [],
   "source": [
    "import pickle\n",
    "import pandas as pd\n",
    "\n",
    "\n",
    "\n",
    "class Modelo(object):\n",
    "    def __init__(self,dados):\n",
    "        self.dados = pd.DataFrame([dados])\n",
    "        self.filename = '../student_intervention.sav'\n",
    "        self.modelo = pickle.load(open(self.filename, 'rb'))\n",
    "\n",
    "    def predict(self):\n",
    "        result = [\n",
    "               \"aluno precisa de intervensao\"\n",
    "               if self.modelo.predict(self.dados)[0] == \"yes\"\n",
    "               else \"aluno nao precisa de intervensao\"\n",
    "        ]\n",
    "        print(result[0])\n",
    "        return result[0]\n"
   ]
  },
  {
   "cell_type": "code",
   "execution_count": 65,
   "metadata": {},
   "outputs": [
    {
     "name": "stdout",
     "output_type": "stream",
     "text": [
      "aluno nao precisa de intervensao\n"
     ]
    },
    {
     "data": {
      "text/plain": [
       "'aluno nao precisa de intervensao'"
      ]
     },
     "execution_count": 65,
     "metadata": {},
     "output_type": "execute_result"
    }
   ],
   "source": [
    "label = Modelo(querys[0])\n",
    "label.predict()"
   ]
  },
  {
   "cell_type": "code",
   "execution_count": 66,
   "metadata": {},
   "outputs": [
    {
     "data": {
      "text/plain": [
       "{'school_GP': 0,\n",
       " 'school_MS': 1,\n",
       " 'sex_F': 0,\n",
       " 'sex_M': 1,\n",
       " 'age': 18,\n",
       " 'address_R': 1,\n",
       " 'address_U': 0,\n",
       " 'famsize_GT3': 0,\n",
       " 'famsize_LE3': 1,\n",
       " 'Pstatus_A': 0,\n",
       " 'Pstatus_T': 1,\n",
       " 'Medu': 1,\n",
       " 'Fedu': 2,\n",
       " 'Mjob_at_home': 1,\n",
       " 'Mjob_health': 0,\n",
       " 'Mjob_other': 0,\n",
       " 'Mjob_services': 0,\n",
       " 'Mjob_teacher': 0,\n",
       " 'Fjob_at_home': 0,\n",
       " 'Fjob_health': 0,\n",
       " 'Fjob_other': 0,\n",
       " 'Fjob_services': 1,\n",
       " 'Fjob_teacher': 0,\n",
       " 'reason_course': 0,\n",
       " 'reason_home': 0,\n",
       " 'reason_other': 1,\n",
       " 'reason_reputation': 0,\n",
       " 'guardian_father': 1,\n",
       " 'guardian_mother': 0,\n",
       " 'guardian_other': 0,\n",
       " 'traveltime': 3,\n",
       " 'studytime': 1,\n",
       " 'failures': 0,\n",
       " 'schoolsup': 0,\n",
       " 'famsup': 1,\n",
       " 'paid': 1,\n",
       " 'activities': 1,\n",
       " 'nursery': 1,\n",
       " 'higher': 0,\n",
       " 'internet': 1,\n",
       " 'romantic': 1,\n",
       " 'famrel': 4,\n",
       " 'freetime': 3,\n",
       " 'goout': 3,\n",
       " 'Dalc': 2,\n",
       " 'Walc': 3,\n",
       " 'health': 3,\n",
       " 'absences': 3}"
      ]
     },
     "execution_count": 66,
     "metadata": {},
     "output_type": "execute_result"
    }
   ],
   "source": [
    "querys[0]"
   ]
  },
  {
   "cell_type": "code",
   "execution_count": null,
   "metadata": {},
   "outputs": [],
   "source": []
  }
 ],
 "metadata": {
  "kernelspec": {
   "display_name": "Python 3",
   "language": "python",
   "name": "python3"
  },
  "language_info": {
   "codemirror_mode": {
    "name": "ipython",
    "version": 3
   },
   "file_extension": ".py",
   "mimetype": "text/x-python",
   "name": "python",
   "nbconvert_exporter": "python",
   "pygments_lexer": "ipython3",
   "version": "3.7.5"
  }
 },
 "nbformat": 4,
 "nbformat_minor": 2
}
