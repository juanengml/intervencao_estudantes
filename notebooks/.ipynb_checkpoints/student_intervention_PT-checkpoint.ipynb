{
 "cells": [
  {
   "cell_type": "markdown",
   "metadata": {},
   "source": [
    "# Nanodegree Engenheiro de Machine Learning\n",
    "## Aprendizagem Supervisionada\n",
    "## Projeto 2: Construindo um Sistema de Intervenção para Estudantes"
   ]
  },
  {
   "cell_type": "markdown",
   "metadata": {},
   "source": [
    "Bem-vindo ao segundo projeto do Nanodegree de Machine Learning! Neste Notebook, alguns templates de código já foram fornecidos, e será o seu trabalho implementar funcionalidades necessárias para completar este projeto com êxito. Seções que começam com **'Implementação'** no cabeçalho indicam que o bloco de código que se segue precisará de funcionalidades adicionais que você deve fornecer. Instruções serão providenciadas para cada seção e as especificações para cada implementação estarão marcadas no bloco de código com o comando `'TODO'`. Tenha certeza de ler atentamente todas as instruções!\n",
    "\n",
    "Além do código implementado, haverá questões relacionadas ao projeto e à implementação que você deve responder. Cada seção em que você tem que responder uma questão será antecedida de um cabeçalho **'Questão X'**. Leia atentamente cada questão e escreva respostas completas nas caixas de texto subsequentes que começam com **'Resposta: '**. O projeto enviado será avaliado baseado nas respostas para cada questão e a implementação que você forneceu.  \n",
    "\n",
    ">**Nota:** Células de código e Markdown podem ser executadas utilizando o atalho de teclado **Shift + Enter**. Além disso, as células Markdown podem ser editadas, um clique duplo na célula entra no modo de edição."
   ]
  },
  {
   "cell_type": "markdown",
   "metadata": {},
   "source": [
    "### Questão 1 - Classificação versus Regressão\n",
    "*Seu objetivo neste projeto é identificar estudantes que possam precisar de intervenção antecipada antes de serem reprovados. Que tipo de problema de aprendizagem supervisionada é esse: classificação ou regressão? Por quê?*"
   ]
  },
  {
   "cell_type": "markdown",
   "metadata": {},
   "source": [
    "**Resposta: **\n",
    "Sim, este é um problema de classificação,por que é esse tipo de problema se resolve pensando em \"quem\", quem são os alunos que precisão de intervenção é não \"quantos\", se fosse um problema de \"quantos\" alunos precisam de intervenção seria regressão visto que seram resultados discretos e não continuos."
   ]
  },
  {
   "cell_type": "markdown",
   "metadata": {},
   "source": [
    "## Observando os Dados\n",
    "Execute a célula de código abaixo para carregar as bibliotecas de Python necessárias e os dados sobre os estudantes. Note que a última coluna desse conjunto de dados, `'passed'`, será nosso rótulo alvo (se o aluno foi ou não aprovado). As outras colunas são atributos sobre cada aluno."
   ]
  },
  {
   "cell_type": "code",
   "execution_count": 5,
   "metadata": {},
   "outputs": [
    {
     "name": "stdout",
     "output_type": "stream",
     "text": [
      "Collecting scikit-learn\n",
      "\u001b[?25l  Downloading https://files.pythonhosted.org/packages/41/b6/126263db075fbcc79107749f906ec1c7639f69d2d017807c6574792e517e/scikit_learn-0.22.2.post1-cp37-cp37m-manylinux1_x86_64.whl (7.1MB)\n",
      "\u001b[K    100% |████████████████████████████████| 7.1MB 164kB/s eta 0:00:01\n",
      "\u001b[?25hRequirement already up-to-date: scipy in /home/juan/.local/lib/python3.7/site-packages (1.4.1)\n",
      "\u001b[33mCache entry deserialization failed, entry ignored\u001b[0m\n",
      "Collecting matplotlib\n",
      "\u001b[33m  Cache entry deserialization failed, entry ignored\u001b[0m\n",
      "\u001b[?25l  Downloading https://files.pythonhosted.org/packages/b2/c2/71fcf957710f3ba1f09088b35776a799ba7dd95f7c2b195ec800933b276b/matplotlib-3.2.1-cp37-cp37m-manylinux1_x86_64.whl (12.4MB)\n",
      "\u001b[K    100% |████████████████████████████████| 12.4MB 92kB/s eta 0:00:011\n",
      "\u001b[?25hRequirement already satisfied, skipping upgrade: numpy>=1.11.0 in /home/juan/.local/lib/python3.7/site-packages (from scikit-learn) (1.18.0)\n",
      "Collecting joblib>=0.11 (from scikit-learn)\n",
      "\u001b[33m  Cache entry deserialization failed, entry ignored\u001b[0m\n",
      "\u001b[33m  Cache entry deserialization failed, entry ignored\u001b[0m\n",
      "\u001b[?25l  Downloading https://files.pythonhosted.org/packages/28/5c/cf6a2b65a321c4a209efcdf64c2689efae2cb62661f8f6f4bb28547cf1bf/joblib-0.14.1-py2.py3-none-any.whl (294kB)\n",
      "\u001b[K    100% |████████████████████████████████| 296kB 1.2MB/s eta 0:00:01\n",
      "\u001b[?25hRequirement already satisfied, skipping upgrade: pyparsing!=2.0.4,!=2.1.2,!=2.1.6,>=2.0.1 in /usr/local/lib/python3.7/dist-packages (from matplotlib) (2.4.6)\n",
      "Requirement already satisfied, skipping upgrade: cycler>=0.10 in /usr/local/lib/python3.7/dist-packages (from matplotlib) (0.10.0)\n",
      "Requirement already satisfied, skipping upgrade: python-dateutil>=2.1 in /usr/lib/python3/dist-packages (from matplotlib) (2.7.3)\n",
      "Requirement already satisfied, skipping upgrade: kiwisolver>=1.0.1 in /usr/local/lib/python3.7/dist-packages (from matplotlib) (1.1.0)\n",
      "Requirement already satisfied, skipping upgrade: six in /usr/lib/python3/dist-packages (from cycler>=0.10->matplotlib) (1.12.0)\n",
      "Requirement already satisfied, skipping upgrade: setuptools in /usr/lib/python3/dist-packages (from kiwisolver>=1.0.1->matplotlib) (41.1.0)\n",
      "Installing collected packages: joblib, scikit-learn, matplotlib\n",
      "Successfully installed joblib-0.14.1 matplotlib-3.2.1 scikit-learn-0.22.2.post1\n"
     ]
    }
   ],
   "source": [
    "!pip3 install -U scikit-learn scipy matplotlib"
   ]
  },
  {
   "cell_type": "code",
   "execution_count": 2,
   "metadata": {},
   "outputs": [
    {
     "name": "stdout",
     "output_type": "stream",
     "text": [
      "student-data.csv\r\n"
     ]
    }
   ],
   "source": [
    "!ls ../bases/"
   ]
  },
  {
   "cell_type": "code",
   "execution_count": 3,
   "metadata": {},
   "outputs": [
    {
     "name": "stdout",
     "output_type": "stream",
     "text": [
      "Os dados dos estudantes foram lidos com êxito!\n"
     ]
    }
   ],
   "source": [
    "# Importar bibliotecas\n",
    "import numpy as np\n",
    "import pandas as pd\n",
    "from time import time\n",
    "from sklearn.metrics import f1_score\n",
    "\n",
    "# Ler os dados dos estudantes\n",
    "student_data = pd.read_csv(\"../bases/student-data.csv\")\n",
    "print(\"Os dados dos estudantes foram lidos com êxito!\")"
   ]
  },
  {
   "cell_type": "markdown",
   "metadata": {},
   "source": [
    "### Implementação: Observando os Dados\n",
    "Vamos começar observando o conjunto de dados para determinar quantos são os estudantes sobre os quais temos informações e entender a taxa de graduação entre esses estudantes. Na célula de código abaixo, você vai precisar calcular o seguinte:\n",
    "- O número total de estudantes, `n_students`.\n",
    "- O número total de atributos para cada estudante, `n_features`.\n",
    "- O número de estudantes aprovados, `n_passed`.\n",
    "- O número de estudantes reprovados, `n_failed`.\n",
    "- A taxa de graduação da classe, `grad_rate`, em porcentagem (%).\n"
   ]
  },
  {
   "cell_type": "code",
   "execution_count": 4,
   "metadata": {},
   "outputs": [
    {
     "name": "stdout",
     "output_type": "stream",
     "text": [
      "Número total de estudantes: 395\n",
      "Número de atributos: 30\n",
      "Número de estudantes aprovados: 265\n",
      "Número de estudantes reprovados: 130\n",
      "Taxa de graduação: 67.09%\n"
     ]
    }
   ],
   "source": [
    "# TODO: Calcule o número de estudante\n",
    "n_students = student_data.shape[0]\n",
    "\n",
    "# TODO: Calcule o número de atributos\n",
    "n_features = student_data.shape[1] - 1\n",
    "\n",
    "# TODO: Calcule o número de alunos aprovados\n",
    "\n",
    "n_passed = student_data[student_data['passed']=='yes'].shape[0]\n",
    "\n",
    "# TODO: Calcule o número de alunos reprovados\n",
    "n_failed = student_data[student_data['passed']=='no'].shape[0]\n",
    "\n",
    "# TODO: Calcule a taxa de graduação\n",
    "passou = float(n_passed * 1.00)\n",
    "allstudantes = float(n_students * 1.00)\n",
    "\n",
    "grad_rate = ( passou / allstudantes ) * 100\n",
    "\n",
    "# Imprima os resultados\n",
    "print(\"Número total de estudantes: {}\".format(n_students))\n",
    "print(\"Número de atributos: {}\".format(n_features))\n",
    "print(\"Número de estudantes aprovados: {}\".format(n_passed))\n",
    "print(\"Número de estudantes reprovados: {}\".format(n_failed))\n",
    "print(\"Taxa de graduação: {:.2f}%\".format(grad_rate))"
   ]
  },
  {
   "cell_type": "markdown",
   "metadata": {},
   "source": [
    "## Preparando os Dados\n",
    "Nesta seção, vamos preparara os dados para modelagem, treinamento e teste.\n",
    "\n",
    "### Identificar atributos e variáveis-alvo\n",
    "É comum que os dados que você obteve contenham atributos não numéricos. Isso pode ser um problema, dado que a maioria dos algoritmos de machine learning esperam dados númericos para operar cálculos.\n",
    "\n",
    "Execute a célula de código abaixo para separar os dados dos estudantes em atributos e variáveis-alvo e verificar se algum desses atributos é não numérico."
   ]
  },
  {
   "cell_type": "code",
   "execution_count": 5,
   "metadata": {},
   "outputs": [],
   "source": [
    "%matplotlib inline\n",
    "\n",
    "import matplotlib\n",
    "import numpy as np\n",
    "import matplotlib.pyplot as plt\n"
   ]
  },
  {
   "cell_type": "code",
   "execution_count": 6,
   "metadata": {},
   "outputs": [
    {
     "data": {
      "text/plain": [
       "<matplotlib.axes._subplots.AxesSubplot at 0x7f4ad32d2210>"
      ]
     },
     "execution_count": 6,
     "metadata": {},
     "output_type": "execute_result"
    },
    {
     "data": {
      "image/png": "[encoded data removed]",
      "text/plain": [
       "<Figure size 432x288 with 1 Axes>"
      ]
     },
     "metadata": {
      "needs_background": "light"
     },
     "output_type": "display_data"
    }
   ],
   "source": [
    "plotYes = student_data[student_data['passed']=='yes']['absences']\n",
    "plotYes.plot()\n",
    "plotNot = student_data[student_data['passed']=='no']['absences']\n",
    "plotNot.plot()\n"
   ]
  },
  {
   "cell_type": "code",
   "execution_count": 7,
   "metadata": {
    "scrolled": true
   },
   "outputs": [
    {
     "name": "stdout",
     "output_type": "stream",
     "text": [
      "Colunas de atributos:\n",
      "['school', 'sex', 'age', 'address', 'famsize', 'Pstatus', 'Medu', 'Fedu', 'Mjob', 'Fjob', 'reason', 'guardian', 'traveltime', 'studytime', 'failures', 'schoolsup', 'famsup', 'paid', 'activities', 'nursery', 'higher', 'internet', 'romantic', 'famrel', 'freetime', 'goout', 'Dalc', 'Walc', 'health', 'absences']\n",
      "\n",
      "Coluna-alvo: passed\n",
      "\n",
      "Feature values:\n",
      "  school sex  age address famsize Pstatus  Medu  Fedu     Mjob      Fjob  ...  \\\n",
      "0     GP   F   18       U     GT3       A     4     4  at_home   teacher  ...   \n",
      "1     GP   F   17       U     GT3       T     1     1  at_home     other  ...   \n",
      "2     GP   F   15       U     LE3       T     1     1  at_home     other  ...   \n",
      "3     GP   F   15       U     GT3       T     4     2   health  services  ...   \n",
      "4     GP   F   16       U     GT3       T     3     3    other     other  ...   \n",
      "\n",
      "  higher internet  romantic  famrel  freetime goout Dalc Walc health absences  \n",
      "0    yes       no        no       4         3     4    1    1      3        6  \n",
      "1    yes      yes        no       5         3     3    1    1      3        4  \n",
      "2    yes      yes        no       4         3     2    2    3      3       10  \n",
      "3    yes      yes       yes       3         2     2    1    1      5        2  \n",
      "4    yes       no        no       4         3     2    1    2      5        4  \n",
      "\n",
      "[5 rows x 30 columns]\n"
     ]
    }
   ],
   "source": [
    "# Extraia as colunas dos atributo\n",
    "feature_cols = list(student_data.columns[:-1])\n",
    "\n",
    "# Extraia a coluna-alvo 'passed'\n",
    "target_col = student_data.columns[-1] \n",
    "\n",
    "# Mostre a lista de colunas\n",
    "print(\"Colunas de atributos:\\n{}\".format(feature_cols))\n",
    "print(\"\\nColuna-alvo: {}\".format(target_col))\n",
    "\n",
    "# Separe os dados em atributos e variáveis-alvo (X_all e y_all, respectivamente)\n",
    "X_all = student_data[feature_cols]\n",
    "y_all = student_data[target_col]\n",
    "\n",
    "# Mostre os atributos imprimindo as cinco primeiras linhas\n",
    "print(\"\\nFeature values:\")\n",
    "print(X_all.head())"
   ]
  },
  {
   "cell_type": "markdown",
   "metadata": {},
   "source": [
    "### Pré-processar Colunas de Atributo\n",
    "\n",
    "Como você pode ver, há muitas colunas não numéricas que precisam ser convertidas! Muitas delas são simplesmente `yes`/`no`, por exemplo, a coluna `internet`. É razoável converter essas variáveis em valores (binários) `1`/`0`.\n",
    "\n",
    "Outras colunas, como `Mjob` e `Fjob`, têm mais do que dois valores e são conhecidas como variáveis categóricas. A maneira recomendada de lidar com esse tipo de coluna é criar uma quantidade de colunas proporcional aos possíveis valores (por exemplo, `Fjob_teacher`, `Fjob_other`, `Fjob_services`, etc), e assinalar `1` para um deles e `0` para todos os outros.\n",
    "\n",
    "Essas colunas geradas são por vezes chamadas de _variáveis postiças_ (_dummy variables_), e nós iremos utilizar a função [`pandas.get_dummies()`](http://pandas.pydata.org/pandas-docs/stable/generated/pandas.get_dummies.html?highlight=get_dummies#pandas.get_dummies) para fazer essa conversão. Execute a célula de código abaixo para executar a rotina de pré-processamento discutida nesta seção."
   ]
  },
  {
   "cell_type": "code",
   "execution_count": 8,
   "metadata": {},
   "outputs": [
    {
     "name": "stdout",
     "output_type": "stream",
     "text": [
      "Processed feature columns (48 total features):\n",
      "['school_GP', 'school_MS', 'sex_F', 'sex_M', 'age', 'address_R', 'address_U', 'famsize_GT3', 'famsize_LE3', 'Pstatus_A', 'Pstatus_T', 'Medu', 'Fedu', 'Mjob_at_home', 'Mjob_health', 'Mjob_other', 'Mjob_services', 'Mjob_teacher', 'Fjob_at_home', 'Fjob_health', 'Fjob_other', 'Fjob_services', 'Fjob_teacher', 'reason_course', 'reason_home', 'reason_other', 'reason_reputation', 'guardian_father', 'guardian_mother', 'guardian_other', 'traveltime', 'studytime', 'failures', 'schoolsup', 'famsup', 'paid', 'activities', 'nursery', 'higher', 'internet', 'romantic', 'famrel', 'freetime', 'goout', 'Dalc', 'Walc', 'health', 'absences']\n"
     ]
    }
   ],
   "source": [
    "def preprocess_features(X):\n",
    "    ''' Pré-processa os dados dos estudantes e converte as variáveis binárias não numéricas em\n",
    "        variáveis binárias (0/1). Converte variáveis categóricas em variáveis postiças. '''\n",
    "    \n",
    "    # Inicialize nova saída DataFrame\n",
    "    output = pd.DataFrame(index = X.index)\n",
    "\n",
    "    # Observe os dados em cada coluna de atributos \n",
    "    for col, col_data in X.iteritems():\n",
    "        \n",
    "        # Se o tipo de dado for não numérico, substitua todos os valores yes/no por 1/0\n",
    "        if col_data.dtype == object:\n",
    "            col_data = col_data.replace(['yes', 'no'], [1, 0])\n",
    "\n",
    "        # Se o tipo de dado for categórico, converta-o para uma variável dummy\n",
    "        if col_data.dtype == object:\n",
    "            # Example: 'school' => 'school_GP' and 'school_MS'\n",
    "            col_data = pd.get_dummies(col_data, prefix = col)  \n",
    "        \n",
    "        # Reúna as colunas revisadas\n",
    "        output = output.join(col_data)\n",
    "    \n",
    "    return output\n",
    "\n",
    "X_all = preprocess_features(X_all)\n",
    "print(\"Processed feature columns ({} total features):\\n{}\".format(len(X_all.columns), list(X_all.columns)))"
   ]
  },
  {
   "cell_type": "markdown",
   "metadata": {},
   "source": [
    "### Implementação: Divisão dos Dados de Treinamento e Teste\n",
    "Até agora, nós convertemos todos os atributos _categóricos_ em valores numéricos. Para o próximo passo, vamos dividir os dados (tanto atributos como os rótulos correspondentes) em conjuntos de treinamento e teste. Na célula de código abaixo, você irá precisar implementar o seguinte:\n",
    "- Embaralhe aleatoriamente os dados (`X_all`, `y_all`) em subconjuntos de treinamento e teste.\n",
    "  - Utilizar 300 pontos de treinamento (aproxidamente 75%) e 95 pontos de teste (aproximadamente 25%).\n",
    "  - Estabelecer um `random_state` para as funções que você utiliza, se a opção existir.\n",
    "  - Armazene os resultados em `X_train`, `X_test`, `y_train` e `y_test`."
   ]
  },
  {
   "cell_type": "code",
   "execution_count": 9,
   "metadata": {},
   "outputs": [
    {
     "name": "stdout",
     "output_type": "stream",
     "text": [
      "O conjunto de treinamento tem 296 amostras.\n",
      "O conjunto de teste tem 95 amostras.\n"
     ]
    }
   ],
   "source": [
    "# TODO: Importe qualquer funcionalidade adicional de que você possa precisar aqui\n",
    "from sklearn.model_selection import train_test_split\n",
    "# TODO: Estabeleça o número de pontos de treinamento\n",
    "num_train = 300 # 75% dos dados\n",
    "\n",
    "# Estabeleça o número de pontos de teste\n",
    "num_test = X_all.shape[0] - num_train\n",
    "\n",
    "# TODO: Emabaralhe e distribua o conjunto de dados de acordo com o número de pontos de treinamento e teste abaixo\n",
    "X_train, X_test, y_train, y_test = train_test_split(X_all,y_all,test_size=num_test,train_size = 0.75, random_state=42)\n",
    "\n",
    "# Mostre o resultado da distribuição\n",
    "print(\"O conjunto de treinamento tem {} amostras.\".format(X_train.shape[0]))\n",
    "print(\"O conjunto de teste tem {} amostras.\".format(X_test.shape[0]))"
   ]
  },
  {
   "cell_type": "markdown",
   "metadata": {},
   "source": [
    "## Treinando e Avaliando Modelos\n",
    "Nesta seção, você irá escolher 3 modelos de aprendizagem supervisionada que sejam apropriados para esse problema e que estejam disponíveis no `scikit-learn`. Primeiro você irá discutir o raciocínio por trás da escolha desses três modelos considerando suas vantagens e desvantagens e o que você sabe sobre os dados. Depois você irá ajustar o modelo a diferentes tamanhos de conjuntos de treinamento (com 100, 200 e 300 pontos) e medir a pontuação F<sub>1</sub>. Você vai precisar preencher três tabelas (uma para cada modelo) que mostrem o tamanho do conjunto de treinamento, o tempo de treinamento, o tempo de previsão e a pontuação F<sub>1</sub> no conjunto de treinamento.\n",
    "\n",
    "**Os seguintes modelos de aprendizagem supervisionada estão atualmente disponíveis no **[`scikit-learn`](http://scikit-learn.org/stable/supervised_learning.html)** para você escolher:**\n",
    "- Gaussian Naive Bayes (GaussianNB)\n",
    "- Árvores de Decisão\n",
    "- Métodos de agregação (Bagging, AdaBoost, Random Forest, Gradient Boosting)\n",
    "- K-Nearest Neighbors (KNeighbors)\n",
    "- Método do gradiente estocástico (SGDC)\n",
    "- Máquinas de vetores de suporte (SVM)\n",
    "- Regressão logística"
   ]
  },
  {
   "cell_type": "markdown",
   "metadata": {},
   "source": [
    "### Questão 2 - Aplicação dos Modelos\n",
    "0) *Liste três modelos de aprendizagem supervisionada que são apropriadas para esse problema. Para cada modelo escolhido:*\n",
    "\n",
    "**0) R: Tah, escolhi falar sobre Naive Bayes, Regressão Logistica eeeeeeeeeee chan chan chan chaaaann.... rsrsr Suport Vector MACHINE !!!!**\n",
    "\n",
    "1) Descreva uma aplicação em mundo real na indústria em que o modelo pode ser aplicado. *(Talvez você precise fazer um pouco de pesquisa para responder essa questão – dê as devidas referências!)* \n",
    "2) Quais são as vantagens do modelo; quando ele tem desempenho melhor? \n",
    "3) Quais são as desvantagens do modelo, quando ele tem desempenho pior?\n",
    "\n",
    "4) O que faz desse modelo um bom candidato para o problema, considerando o que você sabe sobre os dados?\n",
    "\n",
    " \n",
    "\n",
    "\n",
    "## Naive Bayes\n",
    "\n",
    "Aplicação 1.1) Classificação de Spam fiz esse projeto nesse nanodegree gostei muito, da pra aplicar ele tambem para analise de sentimentos. \n",
    "\n",
    "Good) 2.1) Naive Bayes - Coisas Boas deste mod rsrsr, first -  não precisa de muitos dados para ter um excelente desempenho, visto que comparado a outros modelos como mais chatinhos como SVM que precisa de MILHÕÕÕÕÕÕÕÕES de dados rsrsr (bastante dados), fora que Naive Bayes pode operar com muitissimas classes, o que por consequencia tem menor tempo e treinamento PS: gosto dele vi sua aplicação há algum tempo nas aulas de estatistica rrsrsrsrsr.\n",
    "\n",
    "Bad) 3.1) Naive Bayes - Coisa bad sad neste mod Y_Y, ele não tem tanta precisão nos calculos, é indicado normalmente no final do rolê das analises, o que tambem é chato nele é pq tem representações  simples demais e não ajuda melhorar pq n tem esquema de ajustar os parametrozinho como tem em outros algoritmos. \n",
    "\n",
    "4.1) Naive Bayes Escolhi este algoritmo devido há quantidade de exemplos que existem na internet pra usar ele, é bem simples de implementar, simples de entender se vc ja viu estatistica alguma vez na faculdade é uma excelente escolha acredito. Vale ressaltar que a simplicidade do modelo ajuda na apresentação para os superiores da escola visto que ele é bastante simples de aplicar e apresentar dados trabalhados nele.\n",
    "\n",
    "## Regressão Logistica\n",
    "\n",
    "Aplicação 1.2)  real disso segundo o livro top que li o Data Smart do  autor Jhown W. Foreman ele aplica em campanhas de marketing, no excelente artigo da mackenzie eles falam tambem sobre a estrategia de marketing de fidelizar clientes usando o algoritmo de regress logistic. \n",
    "\n",
    "Good) 2.2) Regressão Logística,Coisas boas deste mode e que existem muitas manerias de regularizar o modelo para tolerar o tratamento de alguns erros e evitar os excessos de ajustos\n",
    "diferente do Bayes, não há nescessidade de preocupação para com recursos correlacionados, diferente de SVM, podemos sim facilmente entrar com novos dados por meio de metodos de gradiente descendente de forma online e facil de trabalhar, outro ponto legal e que no modulo da sklearn possui hipperparametros para ajuste que podem rapidamente fazer grids e validação cruzada, com isso os LR torna prababilidades excelentemente muito calibradas em vez de uma estimativa com maior probabilidade. \n",
    "\n",
    "Bad) 3.2) Regressão Logistica - bad things of this mod, bah, ele é linear e não consegue trabalhar com relações complexas e sugeneras, com isso outros algoritmos mais simples podem  ser  melhor que ele nesse ponto, ele requer que as observações sejam independente umas das outras e pretende prever com vase em variaveis independentes, se isso não existir ou não for devidademente identificado, os valores de predição poderam não ser encontrados.\n",
    "\n",
    "4.2) Regressão Logistica. Neste ponto sobre o consumo de recursos podem ser ligados a RL, ao contrario de NB pode sim lidar com esse problema visto que regularização e ajustes podem evitar treinos viciados devido ao conjunto de dados com bastantes recursos. \n",
    "\n",
    "## Suport Vector Machine\n",
    "\n",
    "Aplicação 1.3) Aplicação de detecção de genero usando reconheimento de imagem com coorelação, usado pelo pessoal da ufrj. \n",
    "\n",
    "Good) 2.3) Suporte Vector MACHINEEE !!! Good things of this module, tem excelente parâmetros de regularização para tolerar alguns erros e evitar o ajustes excessivos. Possui uns hackes de Kernel que permite que os users construir uma base de conhecimentos especializado sobre o problema através dos hacks do kernel, ele tabem fornece uma boa generalização fora da amostra, se os parâmetros C e gama forem apropriadamente ajustados, com isso SVM pode ser bastante robusto mesmo que a amostra de treno tenha alguns viés.\n",
    "            \n",
    "Bad) 3.3) Suport Vector Machine ! Coisa bad deste modulo, caro pra treinar por causa do tempo de treino, custo computacional mt mt high, precisa manjar das funções de kernel dele pra operar bem o algoritmo. \n",
    "\n",
    "4.3) Suporte Vector MACHINE !  \n",
    "Eu escolhi por que ele é bem robusto pra resolver o problema usando muitos recursos podem ser correlacionados e na regularização para evitar overfitting devido ao conjunto de dados com muitos recursos.\n",
    " \n",
    "\n",
    "### FONTES\n",
    "Naive Bayes\n",
    "\n",
    "https://web.stanford.edu/class/cs124/lec/naivebayes.pdf\n",
    "\n",
    "https://www.vooo.pro/insights/6-passos-faceis-para-aprender-o-algoritmo-naive-bayes-com-o-codigo-em-python/\n",
    "\n",
    "Regressão Logistica\n",
    "\n",
    "CAPITULO 6 - DATA SMART JHOWN W. FOREMAN.\n",
    "\n",
    "http://www.mackenzie.br/fileadmin/Pesquisa/pibic/publicacoes/2011/pdf/epro/karina_cavalcante.pdf\n",
    "\n",
    "Suport Vector MACHINE ! \n",
    "\n",
    "http://pee.ufrj.br/teses/textocompleto/2010021901.pdf\n",
    "http://www.semantix.com.br/10-algoritmos-de-machine-learning/"
   ]
  },
  {
   "cell_type": "markdown",
   "metadata": {},
   "source": [
    "### Configuração\n",
    "Execute a célula de código abaixo para inicializar três funções de ajuda que você pode utilizar para treinar e testar os três modelos de aprendizagem supervisionada que você escolheu acima. As funções são as seguintes:\n",
    "- `train_classifier` - recebe como parâmetro um classificador e dados de treinamento e ajusta o classificador aos dados.\n",
    "- `predict_labels` - recebe como parâmetro um classificador ajustado, atributos e rótulo alvo e faz estimativas utilizando a pontuação do F<sub>1</sub>.\n",
    "- `train_predict` - recebe como entrada um classificador, e dados de treinamento e teste, e executa `train_clasifier` e `predict_labels`.\n",
    " - Essa função vai dar a pontuação F<sub>1</sub> tanto para os dados de treinamento como para os de teste, separadamente."
   ]
  },
  {
   "cell_type": "markdown",
   "metadata": {},
   "source": []
  },
  {
   "cell_type": "code",
   "execution_count": 10,
   "metadata": {},
   "outputs": [],
   "source": [
    "def train_classifier(clf, X_train, y_train):\n",
    "    ''' Ajusta um classificador para os dados de treinamento. '''\n",
    "    \n",
    "    # Inicia o relógio, treina o classificador e, então, para o relógio\n",
    "    start = time()\n",
    "    clf.fit(X_train, y_train)\n",
    "    end = time()\n",
    "    \n",
    "    # Imprime os resultados\n",
    "    print(\"O modelo foi treinado em {:.4f} segundos\".format(end - start))\n",
    "\n",
    "    \n",
    "def predict_labels(clf, features, target):\n",
    "    ''' Faz uma estimativa utilizando um classificador ajustado baseado na pontuação F1. '''\n",
    "    \n",
    "    # Inicia o relógio, faz estimativas e, então, o relógio para\n",
    "    start = time()\n",
    "    y_pred = clf.predict(features)\n",
    "    end = time()\n",
    "    \n",
    "    # Imprime os resultados de retorno\n",
    "    print(\"As previsões foram feitas em {:.4f} segundos.\".format(end - start))\n",
    "    return f1_score(target.values, y_pred, pos_label=\"yes\")\n",
    "\n",
    "    \n",
    "def train_predict(clf, X_train, y_train, X_test, y_test):\n",
    "    ''' Treina e faz estimativas utilizando um classificador baseado na pontuação do F1. '''\n",
    "    \n",
    "    # Indica o tamanho do classificador e do conjunto de treinamento\n",
    "    print(\"Treinando um {} com {} pontos de treinamento. . .\".format(clf.__class__.__name__, len(X_train)))\n",
    "    \n",
    "    # Treina o classificador\n",
    "    train_classifier(clf, X_train, y_train)\n",
    "    \n",
    "    # Imprime os resultados das estimativas de ambos treinamento e teste\n",
    "    print(\"Pontuação F1 para o conjunto de treino: {:.4f}.\".format(predict_labels(clf, X_train, y_train)))\n",
    "    print(\"Pontuação F1 para o conjunto de teste: {:.4f}.\".format(predict_labels(clf, X_test, y_test)))"
   ]
  },
  {
   "cell_type": "markdown",
   "metadata": {},
   "source": [
    "### Implementação: Métricas de Desempenho do Modelo\n",
    "Com as funções acima, você vai importar os três modelos de aprendizagem supervisionada de sua escolha e executar a função `train_prediction` para cada um deles. Lembre-se de que você vai precisar treinar e usar cada classificador para três diferentes tamanhos de conjuntos de treinamentos: 100, 200 e 300 pontos. Então você deve ter 9 saídas diferentes abaixo – 3 para cada modelo utilizando cada tamanho de conjunto de treinamento. Na célula de código a seguir, você deve implementar o seguinte:\n",
    "- Importe os três modelos de aprendizagem supervisionada que você escolheu na seção anterior.\n",
    "- Inicialize os três modelos e armazene eles em `clf_A`, `clf_B` e `clf_C`.\n",
    " - Defina um `random_state` para cada modelo, se a opção existir.\n",
    " - **Nota:** Utilize as configurações padrão para cada modelo – você vai calibrar um modelo específico em uma seção posterior.\n",
    "- Crie diferentes tamanhos de conjuntos de treinamento para treinar cada modelo.\n",
    " - *Não embaralhe e distribua novamente os dados! Os novos pontos de treinamento devem ser tirados de `X_train` e `y_train`.*\n",
    "- Treine cada modelo com cada tamanho de conjunto de treinamento e faça estimativas com o conjunto de teste (9 vezes no total).  \n",
    "**Nota:** Três tabelas são fornecidas depois da célula de código a seguir, nas quais você deve anotar seus resultados."
   ]
  },
  {
   "cell_type": "code",
   "execution_count": 11,
   "metadata": {
    "scrolled": true
   },
   "outputs": [
    {
     "name": "stdout",
     "output_type": "stream",
     "text": [
      "\tTreinando GaussianNB(priors=None, var_smoothing=1e-09)\n",
      "\n",
      "\n",
      "Treinando um GaussianNB com 100 pontos de treinamento. . .\n",
      "O modelo foi treinado em 0.0021 segundos\n",
      "As previsões foram feitas em 0.0012 segundos.\n",
      "Pontuação F1 para o conjunto de treino: 0.8467.\n",
      "As previsões foram feitas em 0.0019 segundos.\n",
      "Pontuação F1 para o conjunto de teste: 0.8029.\n",
      "\n",
      "\n",
      "Treinando um GaussianNB com 200 pontos de treinamento. . .\n",
      "O modelo foi treinado em 0.0040 segundos\n",
      "As previsões foram feitas em 0.0036 segundos.\n",
      "Pontuação F1 para o conjunto de treino: 0.8406.\n",
      "As previsões foram feitas em 0.0021 segundos.\n",
      "Pontuação F1 para o conjunto de teste: 0.7244.\n",
      "\n",
      "\n",
      "Treinando um GaussianNB com 296 pontos de treinamento. . .\n",
      "O modelo foi treinado em 0.0029 segundos\n",
      "As previsões foram feitas em 0.0022 segundos.\n",
      "Pontuação F1 para o conjunto de treino: 0.8067.\n",
      "As previsões foram feitas em 0.0013 segundos.\n",
      "Pontuação F1 para o conjunto de teste: 0.7634.\n",
      "\n",
      "\n",
      "Treinando um GaussianNB com 200 pontos de treinamento. . .\n",
      "O modelo foi treinado em 0.0041 segundos\n",
      "As previsões foram feitas em 0.0011 segundos.\n",
      "Pontuação F1 para o conjunto de treino: 0.8406.\n",
      "As previsões foram feitas em 0.0012 segundos.\n",
      "Pontuação F1 para o conjunto de teste: 0.7244.\n",
      "\n",
      "\n",
      "Treinando um GaussianNB com 296 pontos de treinamento. . .\n",
      "O modelo foi treinado em 0.0019 segundos\n",
      "As previsões foram feitas em 0.0011 segundos.\n",
      "Pontuação F1 para o conjunto de treino: 0.8067.\n",
      "As previsões foram feitas em 0.0011 segundos.\n",
      "Pontuação F1 para o conjunto de teste: 0.7634.\n",
      "\n",
      "\n",
      "\n",
      "\n",
      "\n",
      "\tTreinando SVC(C=1.0, break_ties=False, cache_size=200, class_weight=None, coef0=0.0,\n",
      "    decision_function_shape='ovr', degree=3, gamma='scale', kernel='rbf',\n",
      "    max_iter=-1, probability=False, random_state=0, shrinking=True, tol=0.001,\n",
      "    verbose=False)\n",
      "\n",
      "\n",
      "Treinando um SVC com 100 pontos de treinamento. . .\n",
      "O modelo foi treinado em 0.0025 segundos\n",
      "As previsões foram feitas em 0.0016 segundos.\n",
      "Pontuação F1 para o conjunto de treino: 0.7898.\n",
      "As previsões foram feitas em 0.0016 segundos.\n",
      "Pontuação F1 para o conjunto de teste: 0.7632.\n",
      "\n",
      "\n",
      "Treinando um SVC com 200 pontos de treinamento. . .\n",
      "O modelo foi treinado em 0.0045 segundos\n",
      "As previsões foram feitas em 0.0035 segundos.\n",
      "Pontuação F1 para o conjunto de treino: 0.8190.\n",
      "As previsões foram feitas em 0.0020 segundos.\n",
      "Pontuação F1 para o conjunto de teste: 0.7792.\n",
      "\n",
      "\n",
      "Treinando um SVC com 296 pontos de treinamento. . .\n",
      "O modelo foi treinado em 0.0127 segundos\n",
      "As previsões foram feitas em 0.0068 segundos.\n",
      "Pontuação F1 para o conjunto de treino: 0.8153.\n",
      "As previsões foram feitas em 0.0023 segundos.\n",
      "Pontuação F1 para o conjunto de teste: 0.7742.\n",
      "\n",
      "\n",
      "Treinando um SVC com 200 pontos de treinamento. . .\n",
      "O modelo foi treinado em 0.0043 segundos\n",
      "As previsões foram feitas em 0.0036 segundos.\n",
      "Pontuação F1 para o conjunto de treino: 0.8190.\n",
      "As previsões foram feitas em 0.0018 segundos.\n",
      "Pontuação F1 para o conjunto de teste: 0.7792.\n",
      "\n",
      "\n",
      "Treinando um SVC com 296 pontos de treinamento. . .\n",
      "O modelo foi treinado em 0.0086 segundos\n",
      "As previsões foram feitas em 0.0053 segundos.\n",
      "Pontuação F1 para o conjunto de treino: 0.8153.\n",
      "As previsões foram feitas em 0.0021 segundos.\n",
      "Pontuação F1 para o conjunto de teste: 0.7742.\n",
      "\n",
      "\n",
      "\n",
      "\n",
      "\n",
      "\tTreinando LogisticRegression(C=1.0, class_weight=None, dual=False, fit_intercept=True,\n",
      "                   intercept_scaling=1, l1_ratio=None, max_iter=100,\n",
      "                   multi_class='auto', n_jobs=-1, penalty='l2', random_state=0,\n",
      "                   solver='lbfgs', tol=0.0001, verbose=0, warm_start=False)\n",
      "\n",
      "\n",
      "Treinando um LogisticRegression com 100 pontos de treinamento. . .\n",
      "O modelo foi treinado em 0.8683 segundos\n",
      "As previsões foram feitas em 0.0029 segundos.\n",
      "Pontuação F1 para o conjunto de treino: 0.8696.\n",
      "As previsões foram feitas em 0.0034 segundos.\n",
      "Pontuação F1 para o conjunto de teste: 0.7737.\n",
      "\n",
      "\n",
      "Treinando um LogisticRegression com 200 pontos de treinamento. . .\n",
      "O modelo foi treinado em 0.3385 segundos\n",
      "As previsões foram feitas em 0.0039 segundos.\n",
      "Pontuação F1 para o conjunto de treino: 0.8591.\n",
      "As previsões foram feitas em 0.0030 segundos.\n",
      "Pontuação F1 para o conjunto de teste: 0.7914.\n",
      "\n",
      "\n",
      "Treinando um LogisticRegression com 296 pontos de treinamento. . .\n",
      "O modelo foi treinado em 0.3322 segundos\n",
      "As previsões foram feitas em 0.0050 segundos.\n",
      "Pontuação F1 para o conjunto de treino: 0.8416.\n",
      "As previsões foram feitas em 0.0042 segundos.\n",
      "Pontuação F1 para o conjunto de teste: 0.7941.\n",
      "\n",
      "\n",
      "Treinando um LogisticRegression com 200 pontos de treinamento. . .\n",
      "O modelo foi treinado em 0.3295 segundos\n",
      "As previsões foram feitas em 0.0020 segundos.\n",
      "Pontuação F1 para o conjunto de treino: 0.8591.\n",
      "As previsões foram feitas em 0.0013 segundos.\n",
      "Pontuação F1 para o conjunto de teste: 0.7914.\n",
      "\n",
      "\n",
      "Treinando um LogisticRegression com 296 pontos de treinamento. . .\n",
      "O modelo foi treinado em 0.0647 segundos\n",
      "As previsões foram feitas em 0.0041 segundos.\n",
      "Pontuação F1 para o conjunto de treino: 0.8416.\n",
      "As previsões foram feitas em 0.0137 segundos.\n",
      "Pontuação F1 para o conjunto de teste: 0.7941.\n",
      "\n",
      "\n",
      "\n",
      "\n",
      "\n"
     ]
    }
   ],
   "source": [
    "# TODO: Importe os três modelos de aprendizagem supervisionada do sklearn\n",
    "from sklearn.naive_bayes import GaussianNB\n",
    "from sklearn.svm import SVC\n",
    "from sklearn.linear_model import LogisticRegression\n",
    "\n",
    "# TODO: Inicialize os três modelos\n",
    "classificador_A = GaussianNB()\n",
    "classificador_B = SVC(random_state=0)\n",
    "classificador_C = LogisticRegression(random_state=0,n_jobs=-1)\n",
    "\n",
    "\n",
    "# TODO: Executar a função 'train_predict' para cada classificador e cada tamanho de conjunto de treinamento\n",
    "# train_predict(clf, X_train, y_train, X_test, y_test)\n",
    "for classificador in [classificador_A, classificador_B, classificador_C]:\n",
    "    print(\"\\tTreinando \" + str(classificador) + \"\\n\\n\")\n",
    "    for n_train in [100, 200, 300]:\n",
    "        train_predict(classificador, X_train[:n_train], y_train[:n_train], X_test, y_test)\n",
    "        print (\"\\n\")\n",
    "    for n_train in [200]:\n",
    "        train_predict(classificador, X_train[:n_train], y_train[:n_train], X_test, y_test)\n",
    "        print (\"\\n\")     \n",
    "    for n_train in [300]:\n",
    "        train_predict(classificador, X_train[:n_train], y_train[:n_train], X_test, y_test)\n",
    "        print (\"\\n\")      \n",
    "    print (\"\\n\\n\")     "
   ]
  },
  {
   "cell_type": "markdown",
   "metadata": {},
   "source": [
    "\n",
    "### Resultados em tabelas\n",
    "Edite a célula abaixo e veja como a tabela pode ser desenhada em [Markdown](https://github.com/adam-p/markdown-here/wiki/Markdown-Cheatsheet#tables). Você deve salvar seus resultados abaixo nas tabelas fornecidas."
   ]
  },
  {
   "cell_type": "markdown",
   "metadata": {},
   "source": [
    "** Classificador 1 - **  GaussianNB\n",
    "\n",
    "| Tamanho do Conjunto de Treinamento | Tempo de Treinamento | Tempo de Estimativa (teste) | Pontuação F1 (treinamento) | Pontuação F1 (teste) |\n",
    "| :--------------------------------: | :------------------: | :-------------------------: | :------------------------: | :------------------: |\n",
    "| 100                                |      0,0015                |           0.0006                 |   0.7970                         |               0.7009       |\n",
    "| 200                                |   0.0029                   |              0.0007              |        0.8166                        |                0.7731      |\n",
    "| 300                                |         0.0016             |               0.0004             |    0.7981                          |               0.7521       |\n",
    "\n",
    "** Classificador 2 - **  SVC\n",
    "\n",
    "| Tamanho do Conjunto de Treinamento | Tempo de Treinamento | Tempo de Estimativa (teste) | Pontuação F1 (treinamento) | Pontuação F1 (teste) |\n",
    "| :--------------------------------: | :------------------: | :-------------------------: | :------------------------: | :------------------: |\n",
    "| 100                                |         0.0018             |         0.0013                  |  0.8466                            |                 0.7682     |\n",
    "| 200                                |  0.0051             |                    0.0017        |       0.8777                      |                 0.7568     |\n",
    "| 300                                |        0.0091              |               0.0026              |   0.8697                         |                 0.7448     |\n",
    "\n",
    "** Classificador 3 - **  LogisticRegression\n",
    "\n",
    "| Tamanho do Conjunto de Treinamento | Tempo de Treinamento | Tempo de Estimativa (teste) | Pontuação F1 (treinamento) | Pontuação F1 (teste) |\n",
    "| :--------------------------------: | :------------------: | :-------------------------: | :------------------------: | :------------------: |\n",
    "| 100                                |           0,0015           |          0.0003                   |     0.8784                       |              0.7463        |\n",
    "| 200                                |      0.0028                |                0.0004             |    0.8381                           |         0.7704             |\n",
    "| 300                                |     0.0029                 |               0.0004              |     0.8333                       |          0.7424            |"
   ]
  },
  {
   "cell_type": "markdown",
   "metadata": {},
   "source": [
    "## Escolhendo o Melhor Modelo\n",
    "Nesta seção final, você irá escolher dos três modelos de aprendizagem supervisionada o *melhor* para utilizar os dados dos estudantes. Você então executará um busca em matriz otimizada para o modelo em todo o conjunto de treinamento (`X_train` e `y_train`) ao calibrar pelo menos um parâmetro, melhorando em comparação a pontuação F<sub>1</sub> do modelo não calibrado. "
   ]
  },
  {
   "cell_type": "markdown",
   "metadata": {},
   "source": [
    "### Questão 3 - Escolhendo o Melhor Modelo\n",
    "*Baseando-se nos experimentos que você executou até agora, explique em um ou dois parágrafos ao conselho de supervisores qual modelo que você escolheu como o melhor. Qual modelo é o mais apropriado baseado nos dados disponíveis, recursos limitados, custo e desempenho?*"
   ]
  },
  {
   "cell_type": "markdown",
   "metadata": {},
   "source": [
    "**Resposta: ** \n",
    "O que é Suporte Vector Machine ?\n",
    "SVM é uma tecnica de aprendizado de maquina supervisionado, que os resultados da aplicaçao da tecnica são comparaveis e muitas vezes superiores a algoritmos de RNA, com aplicação em diversas areas como analise de texto, imagens, e bioinformatica. Ela se torna interressante pelo fato de seu aprendizado ser baseado em aprindizado estatistico, visto que sua capacidade de prever corretamente a classe de dados do mesmo donimio em que o aprendizado ocorreu.\n",
    "\n",
    "Como funciona Estapas de treinamento do SVM ? \n",
    "Inicianmente ela mapea todos os dados em um espaço variavelmente dimensional para que os pontos dos dados possa ser categorizados, mesmo se os dados não forem linearmente separados,PS: com hacks de Kernel rola sim, após separar os dados serão transformados de modo que separados possam ser plotados como um hiperplano, dps disse podemos utilizar as novas caracteristicas dos novos dados para prever agrupamentos ao qual novo dados de entrada pertenceram.\n",
    "Como Validar o Modelo ? \n",
    "\n",
    "Como Aplicar o Modelo ? \n",
    "\n",
    "Comparando modelos creio que Suporte Vector Machine com um grau de acertividade maior na pontução do F1 visto que os demais visto que em Niveis de Pontuação de F1 o Scores se torna maior comparado com os modelos de Naive Bayes e LogisticRegression. Em Contra partida SVM demorou mais em tempo de treino e test comparado com os outros 2. Ou seja, SVM hoje !  SVM AMANHA ! SVM SEMPRE ! (SVM teve melhor desempenho, porem com um tempo de treino e test mais demorado que os demais) enfim conclui que os 3 são mt bons soq eu escolhi o SVM ** {>////<} **"
   ]
  },
  {
   "cell_type": "markdown",
   "metadata": {},
   "source": [
    "### Questão 4 – O Modelo para um Leigo\n",
    "*Em um ou dois parágrafos, explique para o conselho de supervisores, utilizando termos leigos, como o modelo final escolhido deve trabalhar. Tenha certeza que você esteja descrevendo as melhores qualidades do modelo, por exemplo, como o modelo é treinado e como ele faz uma estimativa. Evite jargões técnicos ou matemáticos, como descrever equações ou discutir a implementação do algoritmo.*"
   ]
  },
  {
   "cell_type": "markdown",
   "metadata": {},
   "source": [
    "**Resposta: **\n",
    "Pense em um quadro pontilhados com varios pontos separados por cores, verde, amarelo, azul e rosa. Visto que todos estão nos respectivo cantos do quadro, o modelo Suporte Vector Machine, ele divide os dados como um ninja cortando a tela em 4 grupos no caso do quadro, com isso ele classifica os dados nas fronteiras da tomade decisão, ele é muito conhecido por ser um classificador binario, porem se vc usar uns \"truques\" tipo hasquear usando Kernel, consegue pegar não apenas 2 tipos de classes porem todas as classes processando dados que seriam lineares e não lineares, podendo assim ajustar o modelo para melhor performace nas tomadas de decisão.HAHA ! "
   ]
  },
  {
   "cell_type": "markdown",
   "metadata": {},
   "source": [
    "## Etapas \n",
    "\n",
    "- Uma (SVM) é um algoritmo de aprendizado de máquina supervisionado que pode ser empregado para propósitos de classificação e regressão. SVMs são mais comumente usados em problemas de classificação e, como tal, é nisso que vamos nos concentrar neste post. Os SVMs baseiam-se na ideia de encontrar um hiperplano que melhor divida um conjunto de dados em duas classes, como mostra a imagem abaixo.\n",
    "![1](svm0.png)\n",
    "---\n",
    "-  Os Vectores Suporte são os pontos de dados mais próximos do hiperplano, os pontos de um conjunto de dados que, se removidos, alterariam a posição do hiperplano divisor. Por causa disso, eles podem ser considerados os elementos críticos de um conjunto de dados. \n",
    "  O que é um hiperplano?\n",
    "  Como um exemplo simples, para uma tarefa de classificação com apenas dois recursos (como a imagem acima), você pode pensar em um hiperplano como uma linha que separa e classifica linearmente um conjunto de dados.\n",
    "\n",
    "  Intuitivamente, quanto mais longe do hiperplano nossos pontos de dados estiverem, mais confiantes estaremos de que foram classificados corretamente. Portanto, queremos que nossos pontos de dados estejam o mais longe possível do hiperplano, enquanto ainda estivermos do lado correto dele.\n",
    "  Então, quando novos dados de teste são adicionados, qualquer lado do hiperplano que ele for decidirá a classe que atribuímos a ele.\n",
    "  Como encontramos o hiperplano certo?Ou, em outras palavras, como separar melhor as duas classes nos dados?\n",
    "  A distância entre o hiperplano e o ponto de dados mais próximo de qualquer conjunto é conhecida como margem. O objetivo é escolher um hiperplano com a maior margem possível entre o hiperplano e qualquer ponto dentro do conjunto de treinamento, dando uma chance maior de novos dados serem classificados corretamente.\n",
    "![2](svm1.png)\n",
    "---\n",
    "- Mas o que acontece quando não há hiperplano claro?\n",
    " É aqui que pode ficar complicado. Os dados raramente são tão limpos quanto o nosso exemplo simples acima. Um conjunto de dados muitas vezes parece mais com as bolas confusas abaixo, que representam um conjunto de dados linearmente não separável.\n",
    "![3](svm2.png)\n",
    "---  \n",
    "- Para classificar um conjunto de dados como o acima, é necessário se afastar de uma visualização em 2D dos dados para uma visualização em 3D. Explicar isso é mais fácil com outro exemplo simplificado. Imagine que nossos dois conjuntos de bolas coloridas acima estão sentados em um lençol e este lençol é levantado de repente, lançando as bolas no ar. Enquanto as bolas estão no ar, você usa a folha para separá-las. Este \"levantamento\" das bolas representa o mapeamento dos dados em uma dimensão maior. Isso é conhecido como kernelling. Você pode ler mais sobre Kerneling\n",
    "![]\n",
    "--- \n",
    "\n",
    "![4](svm3.png)\n",
    "\n",
    "- Porque agora estamos em três dimensões, nosso hiperplano não pode mais ser uma linha. Agora deve ser um plano, como mostrado no exemplo acima. A ideia é que os dados continuem sendo mapeados em dimensões cada vez maiores até que um hiperplano possa ser formado para segregá-lo.\n",
    "![]\n",
    "--- \n",
    "\n",
    "###### Fontes: \n",
    "- svm para datasciences Juniors: https://69206c696b652074686973.blogspot.com.br/2018/04/suporte-vector-machine-para-datascience.html\n",
    "\n",
    "- svm for dummies: http://blog.aylien.com/support-vector-machines-for-dummies-a-simple/ \n",
    "\n",
    "- eli5: https://www.reddit.com/r/MachineLearning/comments/15zrpp/please_explain_support_vector_machines_svm_like_i/\n",
    "\n",
    "- SVM WIKI Aprendis: http://aprendis.gim.med.up.pt/index.php/Support_Vector_Machines "
   ]
  },
  {
   "cell_type": "markdown",
   "metadata": {},
   "source": [
    "### Implementação: Calibrando o Modelo (_Tuning_)\n",
    "Calibre o modelo escolhido. Utilize busca em matriz (`GridSearchCV`) com, pelo menos, um parâmetro importante calibrado com, pelo menos, 3 valores diferentes. Você vai precisar utilizar todo o conjunto de treinamento para isso. Na célula de código abaixo, você deve implementar o seguinte:\n",
    "- Importe [`sklearn.grid_search.gridSearchCV`](http://scikit-learn.org/stable/modules/generated/sklearn.grid_search.GridSearchCV.html) e [`sklearn.metrics.make_scorer`](http://scikit-learn.org/stable/modules/generated/sklearn.metrics.make_scorer.html).\n",
    "- Crie o dicionário de parâmetros que você deseja calibrar para o modelo escolhido.\n",
    " - Examplo: `parameters = {'parameter' : [list of values]}`.\n",
    "- Inicialize o classificador que você escolheu e armazene-o em `clf`.\n",
    "- Crie a função de pontuação F<sub>1</sub> utilizando `make_scorer` e armazene-o em `f1_scorer`.\n",
    " - Estabeleça o parâmetro `pos_label` para o valor correto!\n",
    "- Execute uma busca em matriz no classificador `clf` utilizando o `f1_scorer` como método de pontuação e armazene-o em `grid_obj`.\n",
    "- Treine o objeto de busca em matriz com os dados de treinamento (`X_train`, `y_train`) e armazene-o em `grid_obj`."
   ]
  },
  {
   "cell_type": "code",
   "execution_count": 23,
   "metadata": {},
   "outputs": [],
   "source": [
    "# TODO: Importe 'GridSearchCV' e 'make_scorer'\n",
    "from sklearn.metrics import make_scorer\n",
    "from sklearn.model_selection import GridSearchCV\n",
    "from sklearn.metrics import f1_score\n",
    "from sklearn.model_selection import ShuffleSplit\n",
    "\n",
    "# TODO: Crie a lista de parâmetros que você gostaria de calibrar\n",
    "parameters = [\n",
    "    {'kernel': ['linear'], 'C': [1, 10, 100]}]\n",
    "\n",
    "# TODO: Inicialize o classificador\n",
    "classificador =  SVC(random_state=0)\n",
    "\n",
    "# TODO: Faça uma função de pontuação f1 utilizando 'make_scorer' \n",
    "\n",
    "f1_scorer = make_scorer(f1_score, pos_label=\"yes\") \n",
    "\n",
    "# TODO: Execute uma busca em matriz no classificador utilizando o f1_scorer como método de pontuação\n",
    "\n",
    "grid_obj = GridSearchCV(classificador, parameters, scoring=f1_scorer)\n",
    "\n",
    "# TODO: Ajuste o objeto de busca em matriz para o treinamento de dados e encontre os parâmetros ótimos\n",
    "grid_obj =  grid_obj.fit(X_train, y_train)\n",
    "\n",
    "# Get the estimator\n",
    "classificador = grid_obj.best_estimator_"
   ]
  },
  {
   "cell_type": "markdown",
   "metadata": {},
   "source": [
    "### Questão 5 - Pontuação F<sub>1</sub> Final\n",
    "*Qual é a pontuação F<sub>1</sub> do modelo final para treinamento e teste? Como ele se compara ao modelo que não foi calibrado?*"
   ]
  },
  {
   "cell_type": "markdown",
   "metadata": {},
   "source": [
    "**Resposta: **"
   ]
  },
  {
   "cell_type": "code",
   "execution_count": 25,
   "metadata": {},
   "outputs": [
    {
     "name": "stdout",
     "output_type": "stream",
     "text": [
      "As previsões foram feitas em 0.0248 segundos.\n",
      "O modelo calibrado tem F1 de 0.8552 no conjunto de treinamento.\n",
      "As previsões foram feitas em 0.0070 segundos.\n",
      "O modelo calibrado tem F1 de 0.7761 no conjunto de teste.\n"
     ]
    }
   ],
   "source": [
    "# Reporte a pontuação final F1 para treinamento e teste depois de calibrar os parâmetrosprint \"Tuned model has a training F1 score of {:.4f}.\".format(predict_labels(clf, X_train, y_train))\n",
    "print(\"O modelo calibrado tem F1 de {:.4f} no conjunto de treinamento.\".format(predict_labels(classificador, X_train, y_train)))\n",
    "print(\"O modelo calibrado tem F1 de {:.4f} no conjunto de teste.\".format(predict_labels(classificador, X_test, y_test)))"
   ]
  },
  {
   "cell_type": "markdown",
   "metadata": {},
   "source": [
    "O modelo estimado na fase de tunning ficou teve pontuação menor do que o utilizado nos ensaios anteriores, utilizando os parâmetros padrões.\n",
    "\n",
    "\n",
    "1. Antes do tunning F1 Score de treino dava 0.7970\n",
    "2. Dps do Tunning F1 Score de treino 0.8552"
   ]
  },
  {
   "cell_type": "markdown",
   "metadata": {},
   "source": [
    "> **Nota**: Uma vez que você completou todas as implementações de código e respondeu todas as questões acima com êxito, você pode finalizar seu trabalho exportando o iPython Nothebook como um document HTML. Você pode fazer isso utilizando o menu acima e navegando para  \n",
    "**File -> Download as -> HTML (.html)**. Inclua a documentação final junto com o notebook para o envio do seu projeto."
   ]
  },
  {
   "cell_type": "markdown",
   "metadata": {},
   "source": [
    "## Salvando Modelo"
   ]
  },
  {
   "cell_type": "code",
   "execution_count": 31,
   "metadata": {},
   "outputs": [],
   "source": [
    "import pickle"
   ]
  },
  {
   "cell_type": "code",
   "execution_count": 29,
   "metadata": {},
   "outputs": [
    {
     "name": "stdout",
     "output_type": "stream",
     "text": [
      "As previsões foram feitas em 0.0116 segundos.\n"
     ]
    },
    {
     "data": {
      "text/plain": [
       "0.7761194029850748"
      ]
     },
     "execution_count": 29,
     "metadata": {},
     "output_type": "execute_result"
    }
   ],
   "source": [
    "predict_labels(classificador, X_test, y_test)"
   ]
  },
  {
   "cell_type": "code",
   "execution_count": 30,
   "metadata": {},
   "outputs": [
    {
     "data": {
      "text/plain": [
       "SVC(C=1, break_ties=False, cache_size=200, class_weight=None, coef0=0.0,\n",
       "    decision_function_shape='ovr', degree=3, gamma='scale', kernel='linear',\n",
       "    max_iter=-1, probability=False, random_state=0, shrinking=True, tol=0.001,\n",
       "    verbose=False)"
      ]
     },
     "execution_count": 30,
     "metadata": {},
     "output_type": "execute_result"
    }
   ],
   "source": [
    "classificador"
   ]
  },
  {
   "cell_type": "code",
   "execution_count": 33,
   "metadata": {},
   "outputs": [],
   "source": [
    "filename = 'student_intervention.sav'\n",
    "pickle.dump(classificador, open(filename, 'wb'))"
   ]
  },
  {
   "cell_type": "markdown",
   "metadata": {},
   "source": [
    "## Carregando Modelo"
   ]
  },
  {
   "cell_type": "code",
   "execution_count": 35,
   "metadata": {},
   "outputs": [],
   "source": [
    "\n",
    "# load the model from disk\n",
    "loaded_model = pickle.load(open(filename, 'rb'))"
   ]
  },
  {
   "cell_type": "code",
   "execution_count": 49,
   "metadata": {},
   "outputs": [
    {
     "name": "stdout",
     "output_type": "stream",
     "text": [
      "0.4\n"
     ]
    }
   ],
   "source": [
    "result = loaded_model.score( X_test.head(), y_test.head())\n",
    "print(result)"
   ]
  },
  {
   "cell_type": "code",
   "execution_count": 50,
   "metadata": {},
   "outputs": [],
   "source": [
    "result = loaded_model.score( X_test, y_test)"
   ]
  },
  {
   "cell_type": "code",
   "execution_count": 51,
   "metadata": {},
   "outputs": [
    {
     "data": {
      "text/plain": [
       "0.6842105263157895"
      ]
     },
     "execution_count": 51,
     "metadata": {},
     "output_type": "execute_result"
    }
   ],
   "source": [
    "result"
   ]
  },
  {
   "cell_type": "code",
   "execution_count": 58,
   "metadata": {},
   "outputs": [
    {
     "data": {
      "text/plain": [
       "array(['no', 'no', 'no', 'yes', 'yes'], dtype=object)"
      ]
     },
     "execution_count": 58,
     "metadata": {},
     "output_type": "execute_result"
    }
   ],
   "source": [
    "loaded_model.predict(X_test.head())"
   ]
  },
  {
   "cell_type": "code",
   "execution_count": 24,
   "metadata": {},
   "outputs": [],
   "source": [
    "dados = X_test.iloc[1:5]"
   ]
  },
  {
   "cell_type": "code",
   "execution_count": 26,
   "metadata": {},
   "outputs": [],
   "source": [
    "dados.to_csv(\"dados_test.csv\",index=False)"
   ]
  },
  {
   "cell_type": "code",
   "execution_count": 27,
   "metadata": {},
   "outputs": [
    {
     "name": "stdout",
     "output_type": "stream",
     "text": [
      "school_GP,school_MS,sex_F,sex_M,age,address_R,address_U,famsize_GT3,famsize_LE3,Pstatus_A,Pstatus_T,Medu,Fedu,Mjob_at_home,Mjob_health,Mjob_other,Mjob_services,Mjob_teacher,Fjob_at_home,Fjob_health,Fjob_other,Fjob_services,Fjob_teacher,reason_course,reason_home,reason_other,reason_reputation,guardian_father,guardian_mother,guardian_other,traveltime,studytime,failures,schoolsup,famsup,paid,activities,nursery,higher,internet,romantic,famrel,freetime,goout,Dalc,Walc,health,absences\r\n",
      "0,1,0,1,18,1,0,0,1,0,1,1,2,1,0,0,0,0,0,0,0,1,0,0,0,1,0,1,0,0,3,1,0,0,1,1,1,1,0,1,1,4,3,3,2,3,3,3\r\n",
      "1,0,0,1,18,1,0,0,1,0,1,3,3,0,0,1,0,0,0,0,0,1,0,1,0,0,0,0,1,0,1,2,1,0,1,0,0,1,1,1,1,4,3,3,1,3,5,8\r\n",
      "1,0,1,0,16,0,1,1,0,1,0,2,1,0,0,1,0,0,0,0,1,0,0,0,0,1,0,0,1,0,1,2,0,0,0,1,1,1,1,1,1,5,3,4,1,1,2,8\r\n",
      "0,1,0,1,20,0,1,0,1,1,0,2,2,0,0,0,1,0,0,0,0,1,0,1,0,0,0,0,0,1,1,2,2,0,1,1,0,1,1,0,0,5,5,4,4,5,4,11\r\n"
     ]
    }
   ],
   "source": [
    "!cat dados_test.csv"
   ]
  },
  {
   "cell_type": "code",
   "execution_count": null,
   "metadata": {},
   "outputs": [],
   "source": [
    "school_GP,school_MS,sex_F,sex_M,age,address_R,address_U,famsize_GT3,famsize_LE3,Pstatus_A,Pstatus_T,Medu,Fedu,Mjob_at_home,Mjob_health,Mjob_other,Mjob_services,Mjob_teacher,Fjob_at_home,Fjob_health,Fjob_other,Fjob_services,Fjob_teacher,reason_course,reason_home,reason_other,reason_reputation,guardian_father,guardian_mother,guardian_other,traveltime,studytime,failures,schoolsup,famsup,paid,activities,nursery,higher,internet,romantic,famrel,freetime,goout,Dalc,Walc,health,absences\n"
   ]
  }
 ],
 "metadata": {
  "anaconda-cloud": {},
  "kernelspec": {
   "display_name": "Python 3",
   "language": "python",
   "name": "python3"
  },
  "language_info": {
   "codemirror_mode": {
    "name": "ipython",
    "version": 3
   },
   "file_extension": ".py",
   "mimetype": "text/x-python",
   "name": "python",
   "nbconvert_exporter": "python",
   "pygments_lexer": "ipython3",
   "version": "3.7.5"
  }
 },
 "nbformat": 4,
 "nbformat_minor": 1
}
