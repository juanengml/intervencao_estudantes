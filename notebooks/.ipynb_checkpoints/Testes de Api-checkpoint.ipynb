{
 "cells": [
  {
   "cell_type": "code",
   "execution_count": 1,
   "metadata": {},
   "outputs": [],
   "source": [
    "from requests import get, post "
   ]
  },
  {
   "cell_type": "code",
   "execution_count": 2,
   "metadata": {},
   "outputs": [],
   "source": [
    "testes = [[0,1,0,1,18,1,0,0,1,0,1,1,2,1,0,0,0,0,0,0,0,1,0,0,0,1,0,1,0,0,3,1,0,0,1,1,1,1,0,1,1,4,3,3,2,3,3,3],\n",
    "\n",
    "[1,0,0,1,18,1,0,0,1,0,1,3,3,0,0,1,0,0,0,0,0,1,0,1,0,0,0,0,1,0,1,2,1,0,1,0,0,1,1,1,1,4,3,3,1,3,5,8],\n",
    "\n",
    "[1,0,1,0,16,0,1,1,0,1,0,2,1,0,0,1,0,0,0,0,1,0,0,0,0,1,0,0,1,0,1,2,0,0,0,1,1,1,1,1,1,5,3,4,1,1,2,8],\n",
    "\n",
    "[0,1,0,1,20,0,1,0,1,1,0,2,2,0,0,0,1,0,0,0,0,1,0,1,0,0,0,0,0,1,1,2,2,0,1,1,0,1,1,0,0,5,5,4,4,5,4,11]]\n"
   ]
  },
  {
   "cell_type": "code",
   "execution_count": 32,
   "metadata": {},
   "outputs": [],
   "source": [
    "querys = []\n",
    "for linhas in testes:\n",
    "    dados = {\n",
    "    \"school_GP\":linhas[0],\n",
    "    \"school_MS\":linhas[1],\n",
    "    \"sex_F\":linhas[2],\n",
    "    \"sex_M\":linhas[3],\n",
    "    \"age\":linhas[4],\n",
    "    \"address_R\":linhas[5],\n",
    "    \"address_U\":linhas[6],\n",
    "    \"famsize_GT3\":linhas[7],\n",
    "    \"famsize_LE3\":linhas[8],\n",
    "    \"Pstatus_A\":linhas[9],\n",
    "    \"Pstatus_T\":linhas[10],\n",
    "    \"Medu\":linhas[11],\n",
    "    \"Fedu\":linhas[12],\n",
    "    \"Mjob_at_home\":linhas[13],\n",
    "    \"Mjob_health\":linhas[14],\n",
    "    \"Mjob_other\":linhas[15],\n",
    "    \"Mjob_services\":linhas[16],\n",
    "    \"Mjob_teacher\":linhas[17],\n",
    "    \"Fjob_at_home\":linhas[18],\n",
    "    \"Fjob_health\":linhas[19],\n",
    "    \"Fjob_other\":linhas[20],\n",
    "    \"Fjob_services\":linhas[21],\n",
    "    \"Fjob_teacher\":linhas[22],\n",
    "    \"reason_course\":linhas[23],\n",
    "    \"reason_home\":linhas[24],\n",
    "    \"reason_other\":linhas[25],\n",
    "    \"reason_reputation\":linhas[26],\n",
    "    \"guardian_father\":linhas[27],\n",
    "    \"guardian_mother\":linhas[28],\n",
    "    \"guardian_other\":linhas[29],\n",
    "    \"traveltime\":linhas[30],\n",
    "    \"studytime\":linhas[31],\n",
    "    \"failures\":linhas[32],\n",
    "    \"schoolsup\":linhas[33],\n",
    "    \"famsup\":linhas[34],\n",
    "    \"paid\":linhas[35],\n",
    "    \"activities\":linhas[36],\n",
    "    \"nursery\":linhas[37],\n",
    "    \"higher\":linhas[38],\n",
    "    \"internet\":linhas[39],\n",
    "    \"romantic\":linhas[40],\n",
    "    \"famrel\":linhas[41],\n",
    "    \"freetime\":linhas[42],\n",
    "    \"goout\":linhas[43],\n",
    "    \"Dalc\":linhas[44],\n",
    "    \"Walc\":linhas[45],\n",
    "    \"health\":linhas[46],\n",
    "    \"absences\":linhas[47]}\n",
    "    querys.append(dados)\n",
    "        "
   ]
  },
  {
   "cell_type": "code",
   "execution_count": 33,
   "metadata": {},
   "outputs": [],
   "source": [
    "url = \"http://127.0.0.1:5000/angah/api/v1/\""
   ]
  },
  {
   "cell_type": "code",
   "execution_count": 35,
   "metadata": {},
   "outputs": [
    {
     "data": {
      "text/plain": [
       "48"
      ]
     },
     "execution_count": 35,
     "metadata": {},
     "output_type": "execute_result"
    }
   ],
   "source": [
    "len(querys[2])"
   ]
  },
  {
   "cell_type": "code",
   "execution_count": 50,
   "metadata": {},
   "outputs": [
    {
     "name": "stdout",
     "output_type": "stream",
     "text": [
      "{'mensage': 'aluno precisa de intervensão'}\n"
     ]
    }
   ],
   "source": [
    "print(post(url,querys[2]).json())"
   ]
  },
  {
   "cell_type": "code",
   "execution_count": 39,
   "metadata": {},
   "outputs": [],
   "source": [
    "import pandas as pd\n",
    "\n",
    "df = pd.DataFrame([querys[0]]) \n"
   ]
  },
  {
   "cell_type": "code",
   "execution_count": null,
   "metadata": {},
   "outputs": [],
   "source": []
  }
 ],
 "metadata": {
  "kernelspec": {
   "display_name": "Python 3",
   "language": "python",
   "name": "python3"
  },
  "language_info": {
   "codemirror_mode": {
    "name": "ipython",
    "version": 3
   },
   "file_extension": ".py",
   "mimetype": "text/x-python",
   "name": "python",
   "nbconvert_exporter": "python",
   "pygments_lexer": "ipython3",
   "version": "3.7.5"
  }
 },
 "nbformat": 4,
 "nbformat_minor": 2
}
